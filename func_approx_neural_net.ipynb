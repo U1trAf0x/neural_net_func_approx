{
  "nbformat": 4,
  "nbformat_minor": 0,
  "metadata": {
    "colab": {
      "name": "func_approx_neural_net.ipynb",
      "provenance": [],
      "collapsed_sections": [],
      "authorship_tag": "ABX9TyO+L+vVWsTPit05qkSp/y4S"
    },
    "kernelspec": {
      "name": "python3",
      "display_name": "Python 3"
    },
    "language_info": {
      "name": "python"
    }
  },
  "cells": [
    {
      "cell_type": "code",
      "metadata": {
        "id": "vR9h8W__SI5E"
      },
      "source": [
        "%matplotlib inline\n",
        "import matplotlib.pyplot as plt\n",
        "import numpy as np"
      ],
      "execution_count": 69,
      "outputs": []
    },
    {
      "cell_type": "code",
      "metadata": {
        "id": "ycBzxfBuW1OQ"
      },
      "source": [
        "def min_max(n):\n",
        "  n_min = np.min(n)\n",
        "  n_max = np.max(n)\n",
        "\n",
        "  n_delta = n_max - n_min\n",
        "\n",
        "  n_min -= 0.1*n_delta\n",
        "  n_max += 0.1*n_delta\n",
        "\n",
        "  return n_min, n_max"
      ],
      "execution_count": 70,
      "outputs": []
    },
    {
      "cell_type": "code",
      "metadata": {
        "id": "0Cki3ddAhfuP"
      },
      "source": [
        "def f(x_in):\n",
        "  return np.cos(x_in)"
      ],
      "execution_count": 71,
      "outputs": []
    },
    {
      "cell_type": "code",
      "metadata": {
        "colab": {
          "base_uri": "https://localhost:8080/"
        },
        "id": "-Grq3MY9SmH8",
        "outputId": "998ebdb5-d597-40bd-f8cd-e16f33db6fa3"
      },
      "source": [
        "x = np.linspace(-np.pi, np.pi, 10)\n",
        "x_min, x_max = min_max(x)\n",
        "x"
      ],
      "execution_count": 72,
      "outputs": [
        {
          "output_type": "execute_result",
          "data": {
            "text/plain": [
              "array([-3.14159265, -2.44346095, -1.74532925, -1.04719755, -0.34906585,\n",
              "        0.34906585,  1.04719755,  1.74532925,  2.44346095,  3.14159265])"
            ]
          },
          "metadata": {
            "tags": []
          },
          "execution_count": 72
        }
      ]
    },
    {
      "cell_type": "code",
      "metadata": {
        "colab": {
          "base_uri": "https://localhost:8080/"
        },
        "id": "T1m-bMa5TOB1",
        "outputId": "22ff8084-e386-4ed6-91ae-21d13461bd2d"
      },
      "source": [
        "y = f(x)\n",
        "y_min, y_max = min_max(y)\n",
        "y"
      ],
      "execution_count": 73,
      "outputs": [
        {
          "output_type": "execute_result",
          "data": {
            "text/plain": [
              "array([-1.        , -0.76604444, -0.17364818,  0.5       ,  0.93969262,\n",
              "        0.93969262,  0.5       , -0.17364818, -0.76604444, -1.        ])"
            ]
          },
          "metadata": {
            "tags": []
          },
          "execution_count": 73
        }
      ]
    },
    {
      "cell_type": "code",
      "metadata": {
        "colab": {
          "base_uri": "https://localhost:8080/",
          "height": 391
        },
        "id": "gg6k93hATUog",
        "outputId": "a3ef8897-93f9-4d53-dda2-3e1315155562"
      },
      "source": [
        "fig1 = plt.figure(figsize=(6, 6))\n",
        "p1 = fig1.add_subplot(111)\n",
        "p1.scatter(x,y,c='red')\n",
        "p1.set_xlim(x_min, x_max)\n",
        "p1.set_ylim(y_min, y_max)"
      ],
      "execution_count": 74,
      "outputs": [
        {
          "output_type": "execute_result",
          "data": {
            "text/plain": [
              "(-1.1939692620785909, 1.133661882864499)"
            ]
          },
          "metadata": {
            "tags": []
          },
          "execution_count": 74
        },
        {
          "output_type": "display_data",
          "data": {
            "image/png": "[encoded data removed]",
            "text/plain": [
              "<Figure size 432x432 with 1 Axes>"
            ]
          },
          "metadata": {
            "tags": [],
            "needs_background": "light"
          }
        }
      ]
    },
    {
      "cell_type": "code",
      "metadata": {
        "id": "VhP2i6dGk658"
      },
      "source": [
        "def sigmoid(x_in):\n",
        "  return 1/(1 + np.exp(-x_in))\n",
        "\n",
        "def sigmoid_d(x_in):\n",
        "  s_x_in = sigmoid(x_in)\n",
        "  return s_x_in * (1 - s_x_in)\n",
        "\n",
        "def relu(x_in):\n",
        "  return np.maximum(0, x_in)\n",
        "\n",
        "def relu_d(x_in):\n",
        "  return (x_in > 0) * 1\n",
        "\n",
        "def tanh(x_in):\n",
        "  return np.tanh(x_in)\n",
        "\n",
        "def tanh_d(x_in):\n",
        "  return 1 - tanh(x_in)**2"
      ],
      "execution_count": 75,
      "outputs": []
    },
    {
      "cell_type": "code",
      "metadata": {
        "id": "btI41-GPVNtP"
      },
      "source": [
        "def loss_f(y_out, y_target):\n",
        "  return (y_target - y_out)**2"
      ],
      "execution_count": 76,
      "outputs": []
    },
    {
      "cell_type": "code",
      "metadata": {
        "id": "1yfFM26NIY-t"
      },
      "source": [
        "def gen_weights(nh):\n",
        "  wg1 = np.random.rand(nh, 1) - 0.5\n",
        "  wg2 = np.random.rand(1, nh) - 0.5\n",
        "\n",
        "  return [wg1, wg2]"
      ],
      "execution_count": 77,
      "outputs": []
    },
    {
      "cell_type": "code",
      "metadata": {
        "id": "A_oW1KniJUMN"
      },
      "source": [
        "def gen_bias(nh):\n",
        "  bg1 = np.random.rand(nh, 1) - 0.5\n",
        "  bg2 = np.random.rand(1, 1) - 0.5\n",
        "  \n",
        "  return [bg1, bg2]"
      ],
      "execution_count": 78,
      "outputs": []
    },
    {
      "cell_type": "code",
      "metadata": {
        "id": "qMz4tO45V-mD"
      },
      "source": [
        "def loss_f_d(y_out, y_target):\n",
        "  return (-2) * (y_target - y_out)"
      ],
      "execution_count": 79,
      "outputs": []
    },
    {
      "cell_type": "code",
      "metadata": {
        "id": "hZpE8D2iWof4"
      },
      "source": [
        "def forward(fw, fb, x_i):\n",
        "  z1 = fw[0].dot(x_i) + fb[0]\n",
        "  a1 = sigmoid(z1)\n",
        "\n",
        "  z2 = fw[1].dot(a1) + fb[1]\n",
        "  a2 = z2\n",
        "\n",
        "  return [z1, z2], [a1, a2]"
      ],
      "execution_count": 80,
      "outputs": []
    },
    {
      "cell_type": "code",
      "metadata": {
        "id": "V5IuvMWvxJdX"
      },
      "source": [
        "def plot(wp, bp):\n",
        "  NOS=1000\n",
        "  fig2 = plt.figure(figsize=(6, 6))\n",
        "  p2 = fig2.add_subplot(111)\n",
        "\n",
        "  x_l = np.linspace(x_min, x_max, NOS).reshape(1, NOS)\n",
        "  _, y_l1 = forward(wp, bp, x_l)\n",
        "  x_l = x_l.reshape(NOS)\n",
        "  y_l2 = f(x_l)\n",
        "\n",
        "  p2.plot(x_l, y_l1[1].reshape(NOS), c='black')\n",
        "  p2.plot(x_l, y_l2, c='green', alpha=0.5)\n",
        "\n",
        "  #p2.scatter(x,y,c='red')\n",
        "  p2.set_xlim(x_min, x_max)"
      ],
      "execution_count": 81,
      "outputs": []
    },
    {
      "cell_type": "code",
      "metadata": {
        "id": "Xjnxh2oTW7jx"
      },
      "source": [
        "def train(wt, bt, at, it, xt, yt, di):\n",
        "  wt = wt.copy()\n",
        "  bt = bt.copy()\n",
        "\n",
        "  for i in range(it):\n",
        "    cond = ((i + 1) % di) == 0\n",
        "    loss = 0.0\n",
        "\n",
        "    for j in range(xt.shape[0]):\n",
        "      zi, ai = forward(wt, bt, xt[j])\n",
        "      loss += loss_f(ai[1], yt[j])\n",
        "\n",
        "      dz = [None] * 2\n",
        "      dz[1] = loss_f_d(ai[1], yt[j])\n",
        "      dz[0] = w[1].T.dot(dz[1]) * sigmoid_d(zi[0])\n",
        "\n",
        "      wt[1] = wt[1] - at * dz[1].dot(ai[0].T)\n",
        "      bt[1] = bt[1] - at * np.sum(dz[1])\n",
        "\n",
        "      wt[0] = wt[0] - at * dz[0].dot(xt[j])\n",
        "      bt[0] = bt[0] - at * np.sum(dz[0])\n",
        "    \n",
        "    if cond:\n",
        "      print(\"iteration #{}: loss: {:.6f}\\n\".format(i + 1, float(loss / xt.shape[0])))\n",
        "  \n",
        "  return wt, bt"
      ],
      "execution_count": 82,
      "outputs": []
    },
    {
      "cell_type": "code",
      "metadata": {
        "colab": {
          "base_uri": "https://localhost:8080/"
        },
        "id": "CiFYRsCattfA",
        "outputId": "ecfdaac8-91a7-49b4-835b-f9124f96f2d7"
      },
      "source": [
        "n = 10\n",
        "w = gen_weights(n)\n",
        "b = gen_bias(n)\n",
        "alpha, iter, step = 0.1, 1000, 100\n",
        "n_w, n_b = train(w, b, alpha, iter, x, y, step)"
      ],
      "execution_count": 83,
      "outputs": [
        {
          "output_type": "stream",
          "text": [
            "iteration #100: loss: 0.038699\n",
            "\n",
            "iteration #200: loss: 0.014963\n",
            "\n",
            "iteration #300: loss: 0.006057\n",
            "\n",
            "iteration #400: loss: 0.008557\n",
            "\n",
            "iteration #500: loss: 0.008764\n",
            "\n",
            "iteration #600: loss: 0.006401\n",
            "\n",
            "iteration #700: loss: 0.005189\n",
            "\n",
            "iteration #800: loss: 0.005145\n",
            "\n",
            "iteration #900: loss: 0.005409\n",
            "\n",
            "iteration #1000: loss: 0.005681\n",
            "\n"
          ],
          "name": "stdout"
        }
      ]
    },
    {
      "cell_type": "code",
      "metadata": {
        "colab": {
          "base_uri": "https://localhost:8080/",
          "height": 731
        },
        "id": "9yBRuwFXwfox",
        "outputId": "7f28e60b-d9cc-4195-b7e1-6abad20e5eaa"
      },
      "source": [
        "plot(w, b)\n",
        "plot(n_w, n_b)"
      ],
      "execution_count": 84,
      "outputs": [
        {
          "output_type": "display_data",
          "data": {
            "image/png": "[encoded data removed]",
            "text/plain": [
              "<Figure size 432x432 with 1 Axes>"
            ]
          },
          "metadata": {
            "tags": [],
            "needs_background": "light"
          }
        },
        {
          "output_type": "display_data",
          "data": {
            "image/png": "[encoded data removed]",
            "text/plain": [
              "<Figure size 432x432 with 1 Axes>"
            ]
          },
          "metadata": {
            "tags": [],
            "needs_background": "light"
          }
        }
      ]
    }
  ]
}